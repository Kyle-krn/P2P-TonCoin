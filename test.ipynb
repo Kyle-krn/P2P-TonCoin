{
 "cells": [
  {
   "cell_type": "code",
   "execution_count": 124,
   "metadata": {},
   "outputs": [],
   "source": [
    "from models import models\n",
    "from datetime import datetime, timedelta\n",
    "import time\n",
    "from tortoise import Tortoise\n",
    "from data import config\n",
    "from tortoise.queryset import Q\n",
    "import requests\n",
    "from pprint import PrettyPrinter\n",
    "import aiohttp\n",
    "import asyncio\n",
    "from models import models\n",
    "\n",
    "pp = PrettyPrinter(indent=4)"
   ]
  },
  {
   "cell_type": "code",
   "execution_count": 146,
   "metadata": {},
   "outputs": [
    {
     "name": "stdout",
     "output_type": "stream",
     "text": [
      "{   '@type': 'raw.transaction',\n",
      "    'data': 'te6cckECBQEAASkAA7V9xioaHR3qL+SiBPhBe9O4Sr+K7rWo+tkNWFsacO92uTAAAak+ruSwPnoqCOI3YO2MOQebk0bEs7tM49Tq6v3ZvgqatJe5JTMgAAGlQ+6IHBYr+aPwABRgbcDIAQIDAQGgBACCcjw9zIrwMBBDF81x8ilTIXeEMUCMdXBIdlGADHM6Z4C7fcjuEdRE4RKA1X/rJP3LnTu4iN/I+izbmzQRb7Pw2LYADwzA24GIQokgAOtIADZCas5UJjh6zRVZjOn563lOeSbLkpl/PVgmAv29cIipADcYqGh0d6i/kogT4QXvTuEq/iu61qPrZDVhbGnDvdrkxCgGFFhgAAA1J9XclgTFfzR+AAAAACC0uTI5N7gQFpAwtLkyOTe4Fro3txc3uTOQEZjALEVPNg==',\n",
      "    'fee': '224774',\n",
      "    'in_msg': {   '@type': 'raw.message',\n",
      "                  'body_hash': '29ePvvvLKix+Z0VOawmJsOm+nq53TeCnxH0c6DR45ys=',\n",
      "                  'created_lt': '29222604000002',\n",
      "                  'destination': 'EQDcYqGh0d6i_kogT4QXvTuEq_iu61qPrZDVhbGnDvdrk-f3',\n",
      "                  'fwd_fee': '666672',\n",
      "                  'ihr_fee': '0',\n",
      "                  'message': 'Airdrop - airdrop-ton.org #1',\n",
      "                  'msg_data': {   '@type': 'msg.dataText',\n",
      "                                  'text': 'QWlyZHJvcCAtIGFpcmRyb3AtdG9uLm9yZyAjMQ=='},\n",
      "                  'source': 'EQAbITVnKhMcPWaKrMZ0_PW8pzyTZclMv56sEwF-3rhEVIc6',\n",
      "                  'value': '10'},\n",
      "    'other_fee': '0',\n",
      "    'out_msgs': [],\n",
      "    'storage_fee': '224774',\n",
      "    'transaction_id': {   '@type': 'internal.transactionId',\n",
      "                          'hash': 'F+D6cRn66Ma2tnpsi+Wq+pmGF+7Xt2iF6g/BVF5F4Sk=',\n",
      "                          'lt': '29222604000003'},\n",
      "    'utime': 1656724031}\n"
     ]
    }
   ],
   "source": [
    "\n",
    "async def check_transactions():\n",
    "    await Tortoise.init(config=config.TORTOISE_ORM)\n",
    "    params = {\"address\": \"EQDcYqGh0d6i_kogT4QXvTuEq_iu61qPrZDVhbGnDvdrk-f3\",\n",
    "            \"limit\": 20}\n",
    "    response = None\n",
    "    for i in range(5):\n",
    "        async with aiohttp.ClientSession() as session:\n",
    "            async with session.get(url=\"https://toncenter.com/api/v2/getTransactions\", params=params) as resp:\n",
    "                if resp.status != 200:\n",
    "                    await asyncio.sleep(1)\n",
    "                    continue\n",
    "                else:\n",
    "                    response = await resp.json()\n",
    "                    break\n",
    "    if response is None:\n",
    "        return\n",
    "    if response['ok'] is True:\n",
    "        transactions = response['result']\n",
    "        pp.pprint(transactions[1])\n",
    "        for transaction in transactions:\n",
    "            if transaction['transaction_id']['hash'] == \"KfOUWLY6Hj80BjW533q8WOeABF1JumhlRU1Ua32ABJo=\":\n",
    "                return\n",
    "            if transaction['in_msg']['value'] == '0':\n",
    "                continue\n",
    "            \n",
    "            amount = int(transaction['in_msg']['value']) / 1000000000\n",
    "            hash = transaction['transaction_id']['hash']\n",
    "            wallet = transaction['in_msg']['source']\n",
    "            code = transaction['in_msg']['message']\n",
    "\n",
    "            existing_transaction = await models.UserBalanceChange.get_or_none(hash=hash)\n",
    "            if existing_transaction:\n",
    "                continue\n",
    "\n",
    "            user_balance_change = None\n",
    "            if code != '':\n",
    "                user_balance_change = await models.UserBalanceChange.get_or_none(code=code, state=\"created\")\n",
    "            \n",
    "            if user_balance_change is not None:\n",
    "                user = await user_balance_change.user\n",
    "                user_balance_change.amount = amount\n",
    "                user_balance_change.state = \"done\"\n",
    "                user_balance_change.hash = hash\n",
    "                user_balance_change.wallet = wallet\n",
    "                user.balance += amount\n",
    "                await user_balance_change.save()\n",
    "                await user.save()\n",
    "            else:\n",
    "                await models.UserBalanceChange.create(user=None,\n",
    "                                                     type=\"topup\",\n",
    "                                                     amount=amount,\n",
    "                                                     hash=hash,\n",
    "                                                     wallet=wallet,\n",
    "                                                     code=code,\n",
    "                                                     state=\"done\")\n",
    "\n",
    "await check_transactions()"
   ]
  },
  {
   "cell_type": "code",
   "execution_count": 34,
   "metadata": {},
   "outputs": [
    {
     "data": {
      "text/plain": [
       "0.001"
      ]
     },
     "execution_count": 34,
     "metadata": {},
     "output_type": "execute_result"
    }
   ],
   "source": [
    "1000000 / 1000000000"
   ]
  },
  {
   "cell_type": "code",
   "execution_count": null,
   "metadata": {},
   "outputs": [],
   "source": []
  }
 ],
 "metadata": {
  "interpreter": {
   "hash": "5b3b3bcb6792da4f2662f63b8717dacf0d4c9de18dc574ad73e9182cfb664abf"
  },
  "kernelspec": {
   "display_name": "Python 3.8.10 ('venv': venv)",
   "language": "python",
   "name": "python3"
  },
  "language_info": {
   "codemirror_mode": {
    "name": "ipython",
    "version": 3
   },
   "file_extension": ".py",
   "mimetype": "text/x-python",
   "name": "python",
   "nbconvert_exporter": "python",
   "pygments_lexer": "ipython3",
   "version": "3.8.10"
  },
  "orig_nbformat": 4
 },
 "nbformat": 4,
 "nbformat_minor": 2
}
