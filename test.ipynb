{
 "cells": [
  {
   "cell_type": "code",
   "execution_count": 124,
   "metadata": {},
   "outputs": [],
   "source": [
    "from models import models\n",
    "from datetime import datetime, timedelta\n",
    "import time\n",
    "from tortoise import Tortoise\n",
    "from data import config\n",
    "from tortoise.queryset import Q\n",
    "import requests\n",
    "from pprint import PrettyPrinter\n",
    "import aiohttp\n",
    "import asyncio\n",
    "from models import models\n",
    "\n",
    "pp = PrettyPrinter(indent=4)"
   ]
  },
  {
   "cell_type": "code",
   "execution_count": 147,
   "metadata": {},
   "outputs": [
    {
     "name": "stdout",
     "output_type": "stream",
     "text": [
      "{   '@type': 'raw.transaction',\n",
      "    'data': 'te6cckECCgEAAkoAA7V9xioaHR3qL+SiBPhBe9O4Sr+K7rWo+tkNWFsacO92uTAAAa/IHQaQEX4PpxGfroxra2emyL5ar6mYYX7te3aIXqD8FUXkXhKQAAGpPq7ksDYtWt0wADRqijZoAQIDAgHgBAUAgnJ9yO4R1EThEoDVf+sk/cudO7iI38j6LNubNBFvs/DYtif3Gu3Sx1X1zgXO2W1u9uBWwu4DeQR+Z4JO99XdylJKAhMMwWf4xhmTzwRACAkB4YgBuMVDQ6O9RfyUQJ8IL3p3CVfxXda1H1shqwtjTh3u1yYEGpS5m3qgvH++qMxFUxQpPnyrR2HEk21MNa4yIZg8w5AfUhqOIKGcziTFZdXiDPwVeFf9EKIiEeCWiWHvyAdoYU1NGLsWrXBwAAAAMAAcBgEB3wcAaEIAc/t65WWeBvqaiKSagnsZIvoElpmSaCeJ2hatLe5JYmsiy0F4AAAAAAAAAAAAAAAAAAAAsUgBuMVDQ6O9RfyUQJ8IL3p3CVfxXda1H1shqwtjTh3u1ycAOf29crLPA31NRFJNQT2MkX0CS0zJNBPE7QtWlvcksTWRZaC8AAYUWGAAADX5A6DSBMWrW6ZAAJ1BnYMTiAAAAAAAAAAAEQAAAAAAAAAAAAAAAAAAAAAAAAAAAAAAAAAAAAAAAAAAAAAAAAAAAAAAAAAAAAAAAAAAAAAAAAAAAAAAAAAAAAAgAG/Jh6EgTBRYQAAAAAAAAgAAAAAAA0R/fECkSVgVmiUuk5myW/WtCKiUoKPKf3iefufHmQT+QFAWDCvvv38=',\n",
      "    'fee': '6192611',\n",
      "    'in_msg': {   '@type': 'raw.message',\n",
      "                  'body_hash': 'iv0xbeSxwRSL/tqT3UiyhUMPGLPQVncH1iqCNml34y8=',\n",
      "                  'created_lt': '0',\n",
      "                  'destination': 'EQDcYqGh0d6i_kogT4QXvTuEq_iu61qPrZDVhbGnDvdrk-f3',\n",
      "                  'fwd_fee': '0',\n",
      "                  'ihr_fee': '0',\n",
      "                  'message': 'g1KXM29UF4/31RmIqmKFJ8+VaOw4km2phrXGRDMHmHID6kNRxBQzmcSYrLq8QZ+Crwr/ohREQjwS\\n'\n",
      "                             '0Sw9+QDtDCmpoxdi1a4OAAAABgAD\\n',\n",
      "                  'msg_data': {   '@type': 'msg.dataRaw',\n",
      "                                  'body': 'te6cckEBAgEAhwABnINSlzNvVBeP99UZiKpihSfPlWjsOJJtqYa1xkQzB5hyA+pDUcQUM5nEmKy6vEGfgq8K/6IUREI8EtEsPfkA7QwpqaMXYtWuDgAAAAYAAwEAaEIAc/t65WWeBvqaiKSagnsZIvoElpmSaCeJ2hatLe5JYmsiy0F4AAAAAAAAAAAAAAAAAABzNLZ5',\n",
      "                                  'init_state': ''},\n",
      "                  'source': '',\n",
      "                  'value': '0'},\n",
      "    'other_fee': '5824000',\n",
      "    'out_msgs': [   {   '@type': 'raw.message',\n",
      "                        'body_hash': 'lqKW0iTyhcZ77pPDD4owkVfw2qNdxbh+QQt4YwoJz8c=',\n",
      "                        'created_lt': '29671812000002',\n",
      "                        'destination': 'EQDn9vXKyzwN9TURSTUE9jJF9AktMyTQTxO0LVpb3JLE1guT',\n",
      "                        'fwd_fee': '666672',\n",
      "                        'ihr_fee': '0',\n",
      "                        'message': '',\n",
      "                        'msg_data': {   '@type': 'msg.dataRaw',\n",
      "                                        'body': 'te6cckEBAQEAAgAAAEysuc0=',\n",
      "                                        'init_state': ''},\n",
      "                        'source': 'EQDcYqGh0d6i_kogT4QXvTuEq_iu61qPrZDVhbGnDvdrk-f3',\n",
      "                        'value': '1500000000'}],\n",
      "    'storage_fee': '368611',\n",
      "    'transaction_id': {   '@type': 'internal.transactionId',\n",
      "                          'hash': 'KfOUWLY6Hj80BjW533q8WOeABF1JumhlRU1Ua32ABJo=',\n",
      "                          'lt': '29671812000001'},\n",
      "    'utime': 1658170835}\n"
     ]
    }
   ],
   "source": [
    "\n",
    "async def check_transactions():\n",
    "    await Tortoise.init(config=config.TORTOISE_ORM)\n",
    "    params = {\"address\": \"EQDcYqGh0d6i_kogT4QXvTuEq_iu61qPrZDVhbGnDvdrk-f3\",\n",
    "            \"limit\": 20}\n",
    "    response = None\n",
    "    for i in range(5):\n",
    "        async with aiohttp.ClientSession() as session:\n",
    "            async with session.get(url=\"https://toncenter.com/api/v2/getTransactions\", params=params) as resp:\n",
    "                if resp.status != 200:\n",
    "                    await asyncio.sleep(1)\n",
    "                    continue\n",
    "                else:\n",
    "                    response = await resp.json()\n",
    "                    break\n",
    "    if response is None:\n",
    "        return\n",
    "    if response['ok'] is True:\n",
    "        transactions = response['result']\n",
    "        pp.pprint(transactions[0])\n",
    "        for transaction in transactions:\n",
    "            if transaction['transaction_id']['hash'] == \"KfOUWLY6Hj80BjW533q8WOeABF1JumhlRU1Ua32ABJo=\":\n",
    "                return\n",
    "            if transaction['in_msg']['value'] == '0':\n",
    "                continue\n",
    "            \n",
    "            amount = int(transaction['in_msg']['value']) / 1000000000\n",
    "            hash = transaction['transaction_id']['hash']\n",
    "            wallet = transaction['in_msg']['source']\n",
    "            code = transaction['in_msg']['message']\n",
    "\n",
    "            existing_transaction = await models.UserBalanceChange.get_or_none(hash=hash)\n",
    "            if existing_transaction:\n",
    "                continue\n",
    "\n",
    "            user_balance_change = None\n",
    "            if code != '':\n",
    "                user_balance_change = await models.UserBalanceChange.get_or_none(code=code, state=\"created\")\n",
    "            \n",
    "            if user_balance_change is not None:\n",
    "                user = await user_balance_change.user\n",
    "                user_balance_change.amount = amount\n",
    "                user_balance_change.state = \"done\"\n",
    "                user_balance_change.hash = hash\n",
    "                user_balance_change.wallet = wallet\n",
    "                user.balance += amount\n",
    "                await user_balance_change.save()\n",
    "                await user.save()\n",
    "            else:\n",
    "                await models.UserBalanceChange.create(user=None,\n",
    "                                                     type=\"topup\",\n",
    "                                                     amount=amount,\n",
    "                                                     hash=hash,\n",
    "                                                     wallet=wallet,\n",
    "                                                     code=code,\n",
    "                                                     state=\"done\")\n",
    "\n",
    "await check_transactions()"
   ]
  },
  {
   "cell_type": "code",
   "execution_count": 34,
   "metadata": {},
   "outputs": [
    {
     "data": {
      "text/plain": [
       "0.001"
      ]
     },
     "execution_count": 34,
     "metadata": {},
     "output_type": "execute_result"
    }
   ],
   "source": [
    "1000000 / 1000000000"
   ]
  },
  {
   "cell_type": "code",
   "execution_count": null,
   "metadata": {},
   "outputs": [],
   "source": []
  }
 ],
 "metadata": {
  "interpreter": {
   "hash": "5b3b3bcb6792da4f2662f63b8717dacf0d4c9de18dc574ad73e9182cfb664abf"
  },
  "kernelspec": {
   "display_name": "Python 3.8.10 ('venv': venv)",
   "language": "python",
   "name": "python3"
  },
  "language_info": {
   "codemirror_mode": {
    "name": "ipython",
    "version": 3
   },
   "file_extension": ".py",
   "mimetype": "text/x-python",
   "name": "python",
   "nbconvert_exporter": "python",
   "pygments_lexer": "ipython3",
   "version": "3.8.10"
  },
  "orig_nbformat": 4
 },
 "nbformat": 4,
 "nbformat_minor": 2
}
