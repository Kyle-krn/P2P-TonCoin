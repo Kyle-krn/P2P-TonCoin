{
 "cells": [
  {
   "cell_type": "code",
   "execution_count": 67,
   "metadata": {},
   "outputs": [],
   "source": [
    "from models import models\n",
    "from datetime import datetime, timedelta\n",
    "from tortoise import Tortoise\n",
    "from data import config\n",
    "from tortoise.queryset import Q"
   ]
  },
  {
   "cell_type": "code",
   "execution_count": 100,
   "metadata": {},
   "outputs": [
    {
     "name": "stdout",
     "output_type": "stream",
     "text": [
      "2022-07-15 22:42:37.413761 \n",
      " 2022-07-15 22:42:58.746555\n",
      "True\n"
     ]
    }
   ],
   "source": [
    "# await models.Order.filter(updated_at__gte)\n",
    "await Tortoise.init(config.TORTOISE_ORM)\n",
    "\n",
    "order = await models.Order.get(uuid=\"758a986b-ab9d-487e-a01c-aeaaa537bb28\")\n",
    "x = (order.updated_at + timedelta(minutes=15)).replace(tzinfo=None)\n",
    "y = datetime.utcnow()\n",
    "print(x,'\\n', y)\n",
    "print(x < y)\n",
    "# if (order.updated_at + timedelta(minutes=0)).replace(tzinfo=None) > datetime.utcnow().replace(tzinfo=None):\n",
    "#     print('hrt')\n",
    "# # order.updated_at"
   ]
  }
 ],
 "metadata": {
  "interpreter": {
   "hash": "5b3b3bcb6792da4f2662f63b8717dacf0d4c9de18dc574ad73e9182cfb664abf"
  },
  "kernelspec": {
   "display_name": "Python 3.8.10 ('venv': venv)",
   "language": "python",
   "name": "python3"
  },
  "language_info": {
   "codemirror_mode": {
    "name": "ipython",
    "version": 3
   },
   "file_extension": ".py",
   "mimetype": "text/x-python",
   "name": "python",
   "nbconvert_exporter": "python",
   "pygments_lexer": "ipython3",
   "version": "3.8.10"
  },
  "orig_nbformat": 4
 },
 "nbformat": 4,
 "nbformat_minor": 2
}
