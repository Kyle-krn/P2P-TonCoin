{
 "cells": [
  {
   "cell_type": "code",
   "execution_count": 3,
   "metadata": {},
   "outputs": [],
   "source": [
    "from typing import List\n",
    "import aiohttp\n",
    "import asyncio\n",
    "from tortoise import Tortoise, run_async\n",
    "from models.models import CurrencyApiKey\n",
    "from data import config"
   ]
  },
  {
   "cell_type": "code",
   "execution_count": 25,
   "metadata": {},
   "outputs": [],
   "source": [
    "async def set_active_token_currency():\n",
    "    await Tortoise.init(config.TORTOISE_ORM)\n",
    "\n",
    "\n",
    "    list_key = await CurrencyApiKey.all().order_by(\"created_at\")\n",
    "    set_next_key = False\n",
    "    for key in list_key:\n",
    "        if key.is_active:\n",
    "            set_next_key = True\n",
    "            key.is_active = False\n",
    "            await key.save()\n",
    "            continue\n",
    "        \n",
    "        if set_next_key is True:\n",
    "            key.is_active = True\n",
    "            await key.save()\n",
    "            break\n",
    "\n",
    "    if (await CurrencyApiKey.get_or_none(is_active=True)) is None:\n",
    "        first_key = list_key[0]\n",
    "        first_key.is_active = True\n",
    "        await first_key.save()"
   ]
  },
  {
   "cell_type": "code",
   "execution_count": 33,
   "metadata": {},
   "outputs": [],
   "source": [
    "await set_active_token_currency()"
   ]
  },
  {
   "cell_type": "code",
   "execution_count": 37,
   "metadata": {},
   "outputs": [],
   "source": [
    "async def get_all_currency(currency: List[str]):\n",
    "    await Tortoise.init(config.TORTOISE_ORM)\n",
    "    res = None\n",
    "    for i in range(10):\n",
    "        token = await CurrencyApiKey.get(is_active=True)\n",
    "        url = \"https://api.currencyapi.com/v3/latest\"\n",
    "        params = {\"apikey\": token.key}\n",
    "        async with aiohttp.ClientSession() as session:\n",
    "            async with session.get(url=url, params=params) as resp:\n",
    "                if resp.status == 429:\n",
    "                    await set_active_token_currency()\n",
    "                    continue\n",
    "                elif resp.status == 200:\n",
    "                    res = await resp.json()\n",
    "                    break\n",
    "    if res is None:\n",
    "        pass\n",
    "    else:\n",
    "        return res"
   ]
  },
  {
   "cell_type": "code",
   "execution_count": 39,
   "metadata": {},
   "outputs": [
    {
     "name": "stdout",
     "output_type": "stream",
     "text": [
      "{'meta': {'last_updated_at': '2022-07-11T23:59:59Z'}, 'data': {'ADA': {'code': 'ADA', 'value': 0.43677}, 'AED': {'code': 'AED', 'value': 3.67317}, 'AFN': {'code': 'AFN', 'value': 88.15279}, 'ALL': {'code': 'ALL', 'value': 116.08756}, 'AMD': {'code': 'AMD', 'value': 410.97025}, 'ANG': {'code': 'ANG', 'value': 1.80554}, 'AOA': {'code': 'AOA', 'value': 429.66647}, 'ARS': {'code': 'ARS', 'value': 127.35057}, 'AUD': {'code': 'AUD', 'value': 1.48306}, 'AVAX': {'code': 'AVAX', 'value': 17.42552}, 'AWG': {'code': 'AWG', 'value': 1.79755}, 'AZN': {'code': 'AZN', 'value': 1.70005}, 'BAM': {'code': 'BAM', 'value': 1.93745}, 'BBD': {'code': 'BBD', 'value': 2.0228}, 'BDT': {'code': 'BDT', 'value': 93.68463}, 'BGN': {'code': 'BGN', 'value': 1.9482}, 'BHD': {'code': 'BHD', 'value': 0.377}, 'BIF': {'code': 'BIF', 'value': 2062.45208}, 'BMD': {'code': 'BMD', 'value': 1.00001}, 'BNB': {'code': 'BNB', 'value': 228.57819}, 'BND': {'code': 'BND', 'value': 1.40545}, 'BOB': {'code': 'BOB', 'value': 6.89749}, 'BRL': {'code': 'BRL', 'value': 5.37883}, 'BSD': {'code': 'BSD', 'value': 1.00178}, 'BTC': {'code': 'BTC', 'value': 20040.95174}, 'BTN': {'code': 'BTN', 'value': 79.52099}, 'BWP': {'code': 'BWP', 'value': 12.72961}, 'BYN': {'code': 'BYN', 'value': 2.57526}, 'BYR': {'code': 'BYR', 'value': 19600}, 'BZD': {'code': 'BZD', 'value': 2.01934}, 'CAD': {'code': 'CAD', 'value': 1.29956}, 'CDF': {'code': 'CDF', 'value': 2002.52183}, 'CHF': {'code': 'CHF', 'value': 0.9828}, 'CLF': {'code': 'CLF', 'value': 0.03602}, 'CLP': {'code': 'CLP', 'value': 993.82593}, 'CNY': {'code': 'CNY', 'value': 6.71843}, 'COP': {'code': 'COP', 'value': 4578.96066}, 'CRC': {'code': 'CRC', 'value': 688.36627}, 'CUC': {'code': 'CUC', 'value': 1.00497}, 'CUP': {'code': 'CUP', 'value': 24.0438}, 'CVE': {'code': 'CVE', 'value': 109.22882}, 'CZK': {'code': 'CZK', 'value': 24.48599}, 'DJF': {'code': 'DJF', 'value': 177.72452}, 'DKK': {'code': 'DKK', 'value': 7.40498}, 'DOP': {'code': 'DOP', 'value': 54.81977}, 'DOT': {'code': 'DOT', 'value': 6.55365}, 'DZD': {'code': 'DZD', 'value': 146.91121}, 'EGP': {'code': 'EGP', 'value': 18.87461}, 'ETB': {'code': 'ETB', 'value': 52.27585}, 'ETH': {'code': 'ETH', 'value': 1100.36387}, 'EUR': {'code': 'EUR', 'value': 0.99532}, 'FJD': {'code': 'FJD', 'value': 2.22875}, 'GBP': {'code': 'GBP', 'value': 0.84034}, 'GEL': {'code': 'GEL', 'value': 2.94004}, 'GHS': {'code': 'GHS', 'value': 8.10484}, 'GMD': {'code': 'GMD', 'value': 54.09102}, 'GNF': {'code': 'GNF', 'value': 8702.35606}, 'GTQ': {'code': 'GTQ', 'value': 7.76307}, 'GYD': {'code': 'GYD', 'value': 209.70751}, 'HKD': {'code': 'HKD', 'value': 7.85008}, 'HNL': {'code': 'HNL', 'value': 24.62901}, 'HRK': {'code': 'HRK', 'value': 7.47981}, 'HTG': {'code': 'HTG', 'value': 116.08461}, 'HUF': {'code': 'HUF', 'value': 405.57922}, 'IDR': {'code': 'IDR', 'value': 15010.85791}, 'ILS': {'code': 'ILS', 'value': 3.48393}, 'INR': {'code': 'INR', 'value': 79.47896}, 'IQD': {'code': 'IQD', 'value': 1462.13666}, 'IRR': {'code': 'IRR', 'value': 42350.56526}, 'ISK': {'code': 'ISK', 'value': 138.45161}, 'JMD': {'code': 'JMD', 'value': 151.19453}, 'JOD': {'code': 'JOD', 'value': 0.70901}, 'JPY': {'code': 'JPY', 'value': 137.39443}, 'KES': {'code': 'KES', 'value': 118.31337}, 'KGS': {'code': 'KGS', 'value': 82.64738}, 'KHR': {'code': 'KHR', 'value': 4081.46599}, 'KMF': {'code': 'KMF', 'value': 464.63432}, 'KRW': {'code': 'KRW', 'value': 1311.2365}, 'KWD': {'code': 'KWD', 'value': 0.30782}, 'KYD': {'code': 'KYD', 'value': 0.83487}, 'KZT': {'code': 'KZT', 'value': 473.11061}, 'LAK': {'code': 'LAK', 'value': 15050.77656}, 'LBP': {'code': 'LBP', 'value': 1514.89882}, 'LKR': {'code': 'LKR', 'value': 360.65552}, 'LRD': {'code': 'LRD', 'value': 152.50229}, 'LSL': {'code': 'LSL', 'value': 15.84033}, 'LTC': {'code': 'LTC', 'value': 49.10442}, 'LTL': {'code': 'LTL', 'value': 2.95274}, 'LVL': {'code': 'LVL', 'value': 0.60489}, 'LYD': {'code': 'LYD', 'value': 4.8823}, 'MAD': {'code': 'MAD', 'value': 10.1954}, 'MATIC': {'code': 'MATIC', 'value': 0.56479}, 'MDL': {'code': 'MDL', 'value': 19.32042}, 'MGA': {'code': 'MGA', 'value': 4101.19775}, 'MKD': {'code': 'MKD', 'value': 61.38849}, 'MMK': {'code': 'MMK', 'value': 1854.85879}, 'MOP': {'code': 'MOP', 'value': 8.0999}, 'MRO': {'code': 'MRO', 'value': 356.999828}, 'MUR': {'code': 'MUR', 'value': 44.79768}, 'MVR': {'code': 'MVR', 'value': 15.3504}, 'MWK': {'code': 'MWK', 'value': 1028.98758}, 'MXN': {'code': 'MXN', 'value': 20.73663}, 'MYR': {'code': 'MYR', 'value': 4.42706}, 'MZN': {'code': 'MZN', 'value': 63.83068}, 'NAD': {'code': 'NAD', 'value': 15.84031}, 'NGN': {'code': 'NGN', 'value': 415.33475}, 'NIO': {'code': 'NIO', 'value': 35.91975}, 'NOK': {'code': 'NOK', 'value': 10.19857}, 'NPR': {'code': 'NPR', 'value': 127.2348}, 'NZD': {'code': 'NZD', 'value': 1.6336}, 'OMR': {'code': 'OMR', 'value': 0.38501}, 'PAB': {'code': 'PAB', 'value': 1.00179}, 'PEN': {'code': 'PEN', 'value': 3.91887}, 'PGK': {'code': 'PGK', 'value': 3.57536}, 'PHP': {'code': 'PHP', 'value': 56.18646}, 'PKR': {'code': 'PKR', 'value': 207.88241}, 'PLN': {'code': 'PLN', 'value': 4.78166}, 'PYG': {'code': 'PYG', 'value': 6882.5557}, 'QAR': {'code': 'QAR', 'value': 3.6411}, 'RON': {'code': 'RON', 'value': 4.91816}, 'RSD': {'code': 'RSD', 'value': 116.83165}, 'RUB': {'code': 'RUB', 'value': 62.50138}, 'RWF': {'code': 'RWF', 'value': 1028.37839}, 'SAR': {'code': 'SAR', 'value': 3.75421}, 'SBD': {'code': 'SBD', 'value': 8.16021}, 'SCR': {'code': 'SCR', 'value': 12.86339}, 'SDG': {'code': 'SDG', 'value': 456.51354}, 'SEK': {'code': 'SEK', 'value': 10.63611}, 'SGD': {'code': 'SGD', 'value': 1.40506}, 'SHP': {'code': 'SHP', 'value': 1.37744}, 'SLL': {'code': 'SLL', 'value': 13170.30835}, 'SOL': {'code': 'SOL', 'value': 33.6575}, 'SOS': {'code': 'SOS', 'value': 584.50805}, 'SRD': {'code': 'SRD', 'value': 22.47159}, 'STD': {'code': 'STD', 'value': 20697.981008}, 'SVC': {'code': 'SVC', 'value': 8.76578}, 'SZL': {'code': 'SZL', 'value': 17.02803}, 'THB': {'code': 'THB', 'value': 36.24066}, 'TJS': {'code': 'TJS', 'value': 10.54434}, 'TMT': {'code': 'TMT', 'value': 3.51005}, 'TND': {'code': 'TND', 'value': 3.06358}, 'TOP': {'code': 'TOP', 'value': 2.35174}, 'TRY': {'code': 'TRY', 'value': 17.34995}, 'TTD': {'code': 'TTD', 'value': 6.80877}, 'TWD': {'code': 'TWD', 'value': 29.87893}, 'TZS': {'code': 'TZS', 'value': 2336.25017}, 'UAH': {'code': 'UAH', 'value': 29.59769}, 'UGX': {'code': 'UGX', 'value': 3775.85024}, 'USD': {'code': 'USD', 'value': 1}, 'UYU': {'code': 'UYU', 'value': 40.33812}, 'UZS': {'code': 'UZS', 'value': 10940.13444}, 'VND': {'code': 'VND', 'value': 23352.6102}, 'XAF': {'code': 'XAF', 'value': 649.78316}, 'XCD': {'code': 'XCD', 'value': 2.70263}, 'XDR': {'code': 'XDR', 'value': 0.76067}, 'XOF': {'code': 'XOF', 'value': 649.7885}, 'XPF': {'code': 'XPF', 'value': 113.15128}, 'XRP': {'code': 'XRP', 'value': 0.3163}, 'YER': {'code': 'YER', 'value': 250.255}, 'ZAR': {'code': 'ZAR', 'value': 17.08877}, 'ZMK': {'code': 'ZMK', 'value': 9001.2}, 'ZMW': {'code': 'ZMW', 'value': 16.35454}, 'ZWL': {'code': 'ZWL', 'value': 321.999592}}}\n"
     ]
    }
   ],
   "source": [
    "res = await get_all_currency(['rub'])\n",
    "print(res)"
   ]
  },
  {
   "cell_type": "code",
   "execution_count": 3,
   "metadata": {},
   "outputs": [],
   "source": [
    "async def create_currency_key(key: str, email: str, password: str):\n",
    "    await Tortoise.init(config.TORTOISE_ORM)\n",
    "    await CurrencyApiKey.create(key=key,\n",
    "                                email=email,\n",
    "                                password=password)"
   ]
  },
  {
   "cell_type": "code",
   "execution_count": 31,
   "metadata": {},
   "outputs": [],
   "source": [
    "key = \"V3UAxDAeqFqViOKSRViSFfLHb13MorlyEDesVpCZ\"\n",
    "email = \"rickrosssss@proton.me\"\n",
    "password = \"otefmmn4ik1JNsXR96y8\"\n",
    "await create_currency_key(key=key, email=email, password=password)"
   ]
  },
  {
   "cell_type": "code",
   "execution_count": 33,
   "metadata": {},
   "outputs": [
    {
     "data": {
      "text/plain": [
       "1022"
      ]
     },
     "execution_count": 33,
     "metadata": {},
     "output_type": "execute_result"
    }
   ],
   "source": [
    "x = 1022.\n",
    "\n",
    "def trim_float(digit: float):\n",
    "    digit_split = str(digit).split(\".\")\n",
    "    if len(digit_split[1]) > 2:\n",
    "        digit_split[1] = digit_split[1][:len(digit_split[1]) - (len(digit_split[1]) - 2)]\n",
    "\n",
    "    if digit_split[1] == \"0\":\n",
    "        return int(digit_split[0])\n",
    "    return float(\".\".join(digit_split))\n",
    "\n",
    "trim_float(x) "
   ]
  },
  {
   "cell_type": "code",
   "execution_count": 1,
   "metadata": {},
   "outputs": [],
   "source": [
    "async def get_currency_ton():\n",
    "    # ?ids=the-open-network&vs_currencies=usd\n",
    "    url = \"https://api.coingecko.com/api/v3/simple/price\"\n",
    "    params = {'ids': \"the-open-network\", \"vs_currencies\": \"usd\"}\n",
    "    async with aiohttp.ClientSession() as session:\n",
    "        async with session.get(url=url, params=params) as resp:\n",
    "            res = await resp.json()\n",
    "            return res['the-open-network']['usd']"
   ]
  },
  {
   "cell_type": "code",
   "execution_count": 4,
   "metadata": {},
   "outputs": [
    {
     "data": {
      "text/plain": [
       "0.951918"
      ]
     },
     "execution_count": 4,
     "metadata": {},
     "output_type": "execute_result"
    }
   ],
   "source": [
    "await get_currency_ton()"
   ]
  }
 ],
 "metadata": {
  "interpreter": {
   "hash": "5b3b3bcb6792da4f2662f63b8717dacf0d4c9de18dc574ad73e9182cfb664abf"
  },
  "kernelspec": {
   "display_name": "Python 3.8.10 ('venv': venv)",
   "language": "python",
   "name": "python3"
  },
  "language_info": {
   "codemirror_mode": {
    "name": "ipython",
    "version": 3
   },
   "file_extension": ".py",
   "mimetype": "text/x-python",
   "name": "python",
   "nbconvert_exporter": "python",
   "pygments_lexer": "ipython3",
   "version": "3.8.10"
  },
  "orig_nbformat": 4
 },
 "nbformat": 4,
 "nbformat_minor": 2
}
